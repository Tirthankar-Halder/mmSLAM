{
 "cells": [
  {
   "cell_type": "code",
   "execution_count": 46,
   "metadata": {},
   "outputs": [],
   "source": [
    "import pandas as pd\n",
    "import matplotlib as plt\n",
    "import json as js"
   ]
  },
  {
   "cell_type": "code",
   "execution_count": 24,
   "metadata": {},
   "outputs": [],
   "source": [
    "df = pd.read_csv(\"20240627_005457.csv\")"
   ]
  },
  {
   "cell_type": "code",
   "execution_count": 25,
   "metadata": {},
   "outputs": [
    {
     "name": "stdout",
     "output_type": "stream",
     "text": [
      "Index(['Date', 'Time', 'numObj', 'rangeIdx', 'range', 'dopplerIdx', 'doppler',\n",
      "       'peakVal', 'x', 'y', 'z', 'rp', 'noiserp', 'zi', 'rangeDoppler',\n",
      "       'rangeArray', 'dopplerArray', 'interFrameProcessingTime',\n",
      "       'transmitOutputTime', 'interFrameProcessingMargin',\n",
      "       'interChirpProcessingMargin', 'activeFrameCPULoad',\n",
      "       'interFrameCPULoad'],\n",
      "      dtype='object')\n",
      "(1261, 23)\n"
     ]
    }
   ],
   "source": [
    "print(df.columns)\n",
    "print(df.shape)\n"
   ]
  },
  {
   "cell_type": "code",
   "execution_count": 44,
   "metadata": {},
   "outputs": [],
   "source": [
    "x= df[\"x\"]\n",
    "y= df[\"y\"]\n",
    "z= df[\"z\"]"
   ]
  },
  {
   "cell_type": "code",
   "execution_count": 45,
   "metadata": {},
   "outputs": [
    {
     "ename": "NameError",
     "evalue": "name 'js' is not defined",
     "output_type": "error",
     "traceback": [
      "\u001b[0;31m---------------------------------------------------------------------------\u001b[0m",
      "\u001b[0;31mNameError\u001b[0m                                 Traceback (most recent call last)",
      "Cell \u001b[0;32mIn[45], line 1\u001b[0m\n\u001b[0;32m----> 1\u001b[0m \u001b[43mjs\u001b[49m\u001b[38;5;241m.\u001b[39mloads(x[\u001b[38;5;241m1\u001b[39m])\n",
      "\u001b[0;31mNameError\u001b[0m: name 'js' is not defined"
     ]
    }
   ],
   "source": [
    "js.loads(x[1])"
   ]
  },
  {
   "cell_type": "code",
   "execution_count": 32,
   "metadata": {},
   "outputs": [
    {
     "name": "stdout",
     "output_type": "stream",
     "text": [
      "[-0.32721516, 0.37220725, 0.61080164, -3.1698968, 0.0, 2.6245384]\n",
      "[0.53909886, 0.83438843, 2.35958, 2.5285683, 5.502434, 7.0368514]\n",
      "[0.2993143, 0.0684449, 0.16900115, -0.14539948, 1.3754054, 1.3740656]\n"
     ]
    }
   ],
   "source": [
    "print(x[1])\n",
    "print(y[1])\n",
    "print(z[1])\n"
   ]
  },
  {
   "cell_type": "code",
   "execution_count": 47,
   "metadata": {},
   "outputs": [],
   "source": [
    "x= js.loads(x[1])\n",
    "y= js.loads(y[1])\n",
    "z= js.loads(z[1])"
   ]
  },
  {
   "cell_type": "code",
   "execution_count": 48,
   "metadata": {},
   "outputs": [
    {
     "data": {
      "text/plain": [
       "[-0.32721516, 0.37220725, 0.61080164, -3.1698968, 0.0, 2.6245384]"
      ]
     },
     "execution_count": 48,
     "metadata": {},
     "output_type": "execute_result"
    }
   ],
   "source": []
  },
  {
   "cell_type": "code",
   "execution_count": null,
   "metadata": {},
   "outputs": [],
   "source": [
    "fig = plt.figure(figsize=(12,7))\n",
    "ax = fig.add_subplot(projection='3d')\n",
    "img = ax.scatter(xs, ys, zs, c=t_low, cmap=plt.hot())\n",
    "fig.colorbar(img)\n",
    "\n",
    "ax.set_xlabel('X')\n",
    "ax.set_ylabel('Y')\n",
    "ax.set_zlabel('Z')\n",
    "\n",
    "plt.show()"
   ]
  }
 ],
 "metadata": {
  "kernelspec": {
   "display_name": "mmenv",
   "language": "python",
   "name": "python3"
  },
  "language_info": {
   "codemirror_mode": {
    "name": "ipython",
    "version": 3
   },
   "file_extension": ".py",
   "mimetype": "text/x-python",
   "name": "python",
   "nbconvert_exporter": "python",
   "pygments_lexer": "ipython3",
   "version": "3.12.2"
  }
 },
 "nbformat": 4,
 "nbformat_minor": 2
}
